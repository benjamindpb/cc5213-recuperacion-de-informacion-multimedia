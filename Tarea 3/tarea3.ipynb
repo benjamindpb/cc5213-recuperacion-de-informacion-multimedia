{
 "metadata": {
  "language_info": {
   "codemirror_mode": {
    "name": "ipython",
    "version": 3
   },
   "file_extension": ".py",
   "mimetype": "text/x-python",
   "name": "python",
   "nbconvert_exporter": "python",
   "pygments_lexer": "ipython3",
   "version": "3.8.3"
  },
  "orig_nbformat": 2,
  "kernelspec": {
   "name": "python383jvsc74a57bd0251fefaa8fcbd73e3ed65bb603adf0ca733fe489ca2eb32c995b57fc79f78c59",
   "display_name": "Python 3.8.3 64-bit ('base': conda)"
  },
  "metadata": {
   "interpreter": {
    "hash": "251fefaa8fcbd73e3ed65bb603adf0ca733fe489ca2eb32c995b57fc79f78c59"
   }
  }
 },
 "nbformat": 4,
 "nbformat_minor": 2,
 "cells": [
  {
   "source": [
    "# Tarea 3: Relación entre efectividad y eficicencia en las búsquedas aproximadas del vecino más cercano.\n",
    "## CC5213 - Recuperación de Información Multimedia\n",
    "\n",
    "### Alumno: Benjamín del Pino B.\n",
    "### Fecha: 31 de mayo de 2021"
   ],
   "cell_type": "markdown",
   "metadata": {}
  },
  {
   "source": [
    "## Objetivo\n",
    "El objetivo de esta tarea es estudiar la relación entre efectividad y eficiencia en las busquedas aproximadas del vecino más cervano (NN).\n",
    "\n",
    "En particular se van a analizar dos conjuntos de datos que llamaremos **MEL** (descriptores de audio) y **VGG** (descriptores de video). Cada uno se compone de un conjunto de vectores **Q** y **R**. Para cada vector **q** de **Q** se desea encontrar su vecino más cercano **r** en **R** tal que la **d(q,r) $\\leq$ d(q,x)** para todo vector **x** de **R** (en donde **d** corresponde a la distancia euclidiana).\n",
    "\n",
    "## Técnicas a utilizar\n",
    "1. **Randomized KD-Tree**\n",
    "2. **Hierarchical K-Means Tree**\n",
    "3. **Linear Scan sobre PCA**\n",
    "\n",
    "Como línea base de efectividad y eficiencia se usará el algoritmo de fuerza bruta **Linear Scan**.\n",
    "\n",
    "Para evaluar los resultados de una busqueda aproximada se deberán calcular dos indicadores:\n",
    "- **Efectividad**\n",
    "- **Eficiencia**.\n"
   ],
   "cell_type": "markdown",
   "metadata": {}
  },
  {
   "source": [
    "### *El código de esta tarea fue extraido principalmente de los anexos que subió el profesor Juan Manuel Barrios en la semana 6 del curso CC5213.*"
   ],
   "cell_type": "markdown",
   "metadata": {}
  },
  {
   "cell_type": "code",
   "execution_count": 1,
   "metadata": {},
   "outputs": [],
   "source": [
    "import os\n",
    "import numpy\n",
    "\n",
    "def load_file(filename, dimensions):\n",
    "    assert os.path.isfile(filename), \"no existe archivo \" + filename\n",
    "    mat = numpy.fromfile(filename, dtype=numpy.float32)\n",
    "    return numpy.reshape(mat, (-1, dimensions))\n",
    "\n",
    "\"\"\"\n",
    "    Esta clase representa a las databases que serán analizadas\n",
    "\"\"\"\n",
    "class Dataset:   \n",
    "    def __init__(self, nombre, archivo_q, archivo_r, dimensiones):\n",
    "        self.nombre = nombre\n",
    "        self.q = load_file(archivo_q, dimensiones)\n",
    "        self.r = load_file(archivo_r, dimensiones)\n",
    "        print(\"Dataset {}: Q={} R={}\".format(\n",
    "            self.nombre, self.q.shape, self.r.shape))\n",
    "\n",
    "class Curva:   \n",
    "    def __init__(self):\n",
    "        self.precisiones = []\n",
    "        self.eficiencias = []"
   ]
  },
  {
   "source": [
    "### Creacion de los objetos de los dataset MEL y VGG"
   ],
   "cell_type": "markdown",
   "metadata": {}
  },
  {
   "cell_type": "code",
   "execution_count": 2,
   "metadata": {},
   "outputs": [
    {
     "output_type": "stream",
     "name": "stdout",
     "text": [
      "Dataset MEL: Q=(32000, 128) R=(10000, 128)\n",
      "Dataset VGG: Q=(1000, 4096) R=(10000, 4096)\n"
     ]
    }
   ],
   "source": [
    "dataset_MEL = Dataset(\"MEL\", \"dataset_MEL/MEL-Q-128_float32.bin\", \"dataset_MEL/MEL-R-128_float32.bin\", 128)\n",
    "dataset_VGG = Dataset(\"VGG\", \"dataset_VGG/VGG-Q-4096_float32.bin\", \"dataset_VGG/VGG-R-4096_float32.bin\", 4096)"
   ]
  },
  {
   "source": [
    "### Los siguientes comandos \"importan\" las clases que van a servir para realizar el analisís de la tarea"
   ],
   "cell_type": "markdown",
   "metadata": {}
  },
  {
   "cell_type": "code",
   "execution_count": 3,
   "metadata": {},
   "outputs": [],
   "source": [
    "%run \"PCA.ipynb\"\n",
    "%run \"Trees.ipynb\""
   ]
  },
  {
   "source": [
    "### Evaluación del dataset MEL"
   ],
   "cell_type": "markdown",
   "metadata": {}
  },
  {
   "cell_type": "code",
   "execution_count": 4,
   "metadata": {},
   "outputs": [
    {
     "output_type": "stream",
     "name": "stdout",
     "text": [
      "MEL linear scan de Q=(32000, 128)xR=(10000, 128)\n",
      "MEL linear scan = 26.0 segundos\n",
      "MEL construcción kdtree-1 = 0.09 segundos\n",
      "  kdtree-1\tprecision=3.8%\ttiempo=0.4% checks=1\n",
      "  kdtree-1\tprecision=17.7%\ttiempo=0.5% checks=10\n",
      "  kdtree-1\tprecision=35.9%\ttiempo=1.4% checks=40\n",
      "  kdtree-1\tprecision=44.9%\ttiempo=2.5% checks=70\n",
      "  kdtree-1\tprecision=51.1%\ttiempo=3.3% checks=100\n",
      "  kdtree-1\tprecision=63.4%\ttiempo=5.8% checks=200\n",
      "  kdtree-1\tprecision=70.6%\ttiempo=7.7% checks=300\n",
      "  kdtree-1\tprecision=75.4%\ttiempo=11.0% checks=400\n",
      "  kdtree-1\tprecision=78.8%\ttiempo=13.4% checks=500\n",
      "  kdtree-1\tprecision=81.6%\ttiempo=16.3% checks=600\n",
      "  kdtree-1\tprecision=83.7%\ttiempo=19.5% checks=700\n",
      "  kdtree-1\tprecision=85.4%\ttiempo=25.6% checks=800\n",
      "  kdtree-1\tprecision=87.0%\ttiempo=36.4% checks=900\n",
      "  kdtree-1\tprecision=88.3%\ttiempo=40.0% checks=1000\n",
      "  kdtree-1\tprecision=99.4%\ttiempo=182.7% checks=5000\n",
      "MEL construcción kdtree-10 = 0.21 segundos\n",
      "  kdtree-10\tprecision=4.1%\ttiempo=0.6% checks=1\n",
      "  kdtree-10\tprecision=28.2%\ttiempo=0.6% checks=10\n",
      "  kdtree-10\tprecision=54.0%\ttiempo=1.8% checks=40\n",
      "  kdtree-10\tprecision=65.3%\ttiempo=2.9% checks=70\n",
      "  kdtree-10\tprecision=72.0%\ttiempo=4.3% checks=100\n",
      "  kdtree-10\tprecision=83.7%\ttiempo=7.4% checks=200\n",
      "  kdtree-10\tprecision=89.1%\ttiempo=11.7% checks=300\n",
      "  kdtree-10\tprecision=92.2%\ttiempo=17.5% checks=400\n",
      "  kdtree-10\tprecision=94.1%\ttiempo=21.8% checks=500\n",
      "  kdtree-10\tprecision=95.4%\ttiempo=22.9% checks=600\n",
      "  kdtree-10\tprecision=96.3%\ttiempo=27.4% checks=700\n",
      "  kdtree-10\tprecision=97.0%\ttiempo=31.1% checks=800\n",
      "  kdtree-10\tprecision=97.5%\ttiempo=32.6% checks=900\n",
      "  kdtree-10\tprecision=97.9%\ttiempo=35.8% checks=1000\n",
      "  kdtree-10\tprecision=100.0%\ttiempo=242.0% checks=5000\n",
      "MEL construcción kdtree-30 = 0.62 segundos\n",
      "  kdtree-30\tprecision=3.8%\ttiempo=1.4% checks=1\n",
      "  kdtree-30\tprecision=28.0%\ttiempo=1.7% checks=10\n",
      "  kdtree-30\tprecision=59.8%\ttiempo=2.4% checks=40\n",
      "  kdtree-30\tprecision=71.0%\ttiempo=3.8% checks=70\n",
      "  kdtree-30\tprecision=77.7%\ttiempo=5.2% checks=100\n",
      "  kdtree-30\tprecision=88.0%\ttiempo=9.9% checks=200\n",
      "  kdtree-30\tprecision=92.5%\ttiempo=14.4% checks=300\n",
      "  kdtree-30\tprecision=94.9%\ttiempo=19.3% checks=400\n",
      "  kdtree-30\tprecision=96.3%\ttiempo=24.2% checks=500\n",
      "  kdtree-30\tprecision=97.2%\ttiempo=31.9% checks=600\n",
      "  kdtree-30\tprecision=98.0%\ttiempo=46.8% checks=700\n",
      "  kdtree-30\tprecision=98.3%\ttiempo=66.4% checks=800\n",
      "  kdtree-30\tprecision=98.7%\ttiempo=46.7% checks=900\n",
      "  kdtree-30\tprecision=98.9%\ttiempo=55.3% checks=1000\n",
      "  kdtree-30\tprecision=100.0%\ttiempo=348.0% checks=5000\n",
      "MEL construcción kmeans-3 = 0.34 segundos\n",
      "  kmeans-3\tprecision=22.2%\ttiempo=0.4% checks=1\n",
      "  kmeans-3\tprecision=62.3%\ttiempo=2.8% checks=10\n",
      "  kmeans-3\tprecision=88.7%\ttiempo=13.3% checks=40\n",
      "  kmeans-3\tprecision=95.0%\ttiempo=25.7% checks=70\n",
      "  kmeans-3\tprecision=97.4%\ttiempo=36.9% checks=100\n",
      "  kmeans-3\tprecision=99.4%\ttiempo=71.3% checks=200\n",
      "  kmeans-3\tprecision=99.8%\ttiempo=96.8% checks=300\n",
      "  kmeans-3\tprecision=99.9%\ttiempo=119.3% checks=400\n",
      "  kmeans-3\tprecision=100.0%\ttiempo=143.6% checks=500\n",
      "  kmeans-3\tprecision=100.0%\ttiempo=148.5% checks=600\n",
      "  kmeans-3\tprecision=100.0%\ttiempo=165.6% checks=700\n",
      "  kmeans-3\tprecision=100.0%\ttiempo=177.8% checks=800\n",
      "  kmeans-3\tprecision=100.0%\ttiempo=178.8% checks=900\n",
      "  kmeans-3\tprecision=100.0%\ttiempo=184.6% checks=1000\n",
      "  kmeans-3\tprecision=100.0%\ttiempo=180.4% checks=5000\n",
      "MEL construcción kmeans-30 = 0.68 segundos\n",
      "  kmeans-30\tprecision=34.8%\ttiempo=0.7% checks=1\n",
      "  kmeans-30\tprecision=41.5%\ttiempo=1.2% checks=10\n",
      "  kmeans-30\tprecision=62.0%\ttiempo=1.4% checks=40\n",
      "  kmeans-30\tprecision=73.2%\ttiempo=2.0% checks=70\n",
      "  kmeans-30\tprecision=80.1%\ttiempo=2.5% checks=100\n",
      "  kmeans-30\tprecision=91.1%\ttiempo=4.6% checks=200\n",
      "  kmeans-30\tprecision=95.4%\ttiempo=6.5% checks=300\n",
      "  kmeans-30\tprecision=97.3%\ttiempo=8.3% checks=400\n",
      "  kmeans-30\tprecision=98.4%\ttiempo=10.7% checks=500\n",
      "  kmeans-30\tprecision=98.9%\ttiempo=12.6% checks=600\n",
      "  kmeans-30\tprecision=99.3%\ttiempo=14.8% checks=700\n",
      "  kmeans-30\tprecision=99.5%\ttiempo=17.0% checks=800\n",
      "  kmeans-30\tprecision=99.6%\ttiempo=19.2% checks=900\n",
      "  kmeans-30\tprecision=99.7%\ttiempo=21.7% checks=1000\n",
      "  kmeans-30\tprecision=100.0%\ttiempo=114.8% checks=5000\n",
      "MEL construcción kmeans-90 = 1.36 segundos\n",
      "  kmeans-90\tprecision=45.6%\ttiempo=1.6% checks=1\n",
      "  kmeans-90\tprecision=53.5%\ttiempo=2.1% checks=10\n",
      "  kmeans-90\tprecision=58.4%\ttiempo=2.5% checks=40\n",
      "  kmeans-90\tprecision=65.5%\ttiempo=3.0% checks=70\n",
      "  kmeans-90\tprecision=75.2%\ttiempo=3.6% checks=100\n",
      "  kmeans-90\tprecision=88.5%\ttiempo=6.2% checks=200\n",
      "  kmeans-90\tprecision=94.6%\ttiempo=9.6% checks=300\n",
      "  kmeans-90\tprecision=97.4%\ttiempo=11.0% checks=400\n",
      "  kmeans-90\tprecision=98.6%\ttiempo=14.1% checks=500\n",
      "  kmeans-90\tprecision=99.2%\ttiempo=16.8% checks=600\n",
      "  kmeans-90\tprecision=99.5%\ttiempo=20.2% checks=700\n",
      "  kmeans-90\tprecision=99.6%\ttiempo=23.5% checks=800\n",
      "  kmeans-90\tprecision=99.7%\ttiempo=27.0% checks=900\n",
      "  kmeans-90\tprecision=99.8%\ttiempo=30.5% checks=1000\n",
      "  kmeans-90\tprecision=100.0%\ttiempo=171.0% checks=5000\n"
     ]
    },
    {
     "output_type": "error",
     "ename": "NameError",
     "evalue": "name 'ev2' is not defined",
     "traceback": [
      "\u001b[0;31m---------------------------------------------------------------------------\u001b[0m",
      "\u001b[0;31mNameError\u001b[0m                                 Traceback (most recent call last)",
      "\u001b[0;32m<ipython-input-4-51aaa040f4f7>\u001b[0m in \u001b[0;36m<module>\u001b[0;34m\u001b[0m\n\u001b[1;32m     10\u001b[0m \u001b[0mev2_mel\u001b[0m\u001b[0;34m.\u001b[0m\u001b[0mcalcular_PCA\u001b[0m\u001b[0;34m(\u001b[0m\u001b[0;34m)\u001b[0m\u001b[0;34m\u001b[0m\u001b[0;34m\u001b[0m\u001b[0m\n\u001b[1;32m     11\u001b[0m \u001b[0;32mfor\u001b[0m \u001b[0mdims\u001b[0m \u001b[0;32min\u001b[0m \u001b[0;36m2\u001b[0m\u001b[0;34m,\u001b[0m \u001b[0;36m4\u001b[0m\u001b[0;34m,\u001b[0m \u001b[0;36m8\u001b[0m\u001b[0;34m,\u001b[0m \u001b[0;36m16\u001b[0m\u001b[0;34m,\u001b[0m \u001b[0;36m24\u001b[0m\u001b[0;34m,\u001b[0m \u001b[0;36m32\u001b[0m\u001b[0;34m,\u001b[0m \u001b[0;36m48\u001b[0m\u001b[0;34m,\u001b[0m \u001b[0;36m64\u001b[0m\u001b[0;34m,\u001b[0m \u001b[0;36m80\u001b[0m\u001b[0;34m,\u001b[0m \u001b[0;36m96\u001b[0m\u001b[0;34m,\u001b[0m \u001b[0;36m112\u001b[0m\u001b[0;34m,\u001b[0m \u001b[0;36m128\u001b[0m\u001b[0;34m:\u001b[0m\u001b[0;34m\u001b[0m\u001b[0;34m\u001b[0m\u001b[0m\n\u001b[0;32m---> 12\u001b[0;31m     \u001b[0mev2\u001b[0m\u001b[0;34m.\u001b[0m\u001b[0mreducir_y_buscar\u001b[0m\u001b[0;34m(\u001b[0m\u001b[0mdims\u001b[0m\u001b[0;34m)\u001b[0m\u001b[0;34m\u001b[0m\u001b[0;34m\u001b[0m\u001b[0m\n\u001b[0m",
      "\u001b[0;31mNameError\u001b[0m: name 'ev2' is not defined"
     ]
    }
   ],
   "source": [
    "ev1_mel = EvaluarArbol(dataset_MEL)\n",
    "ev1_mel.linear_scan()\n",
    "curva_kd1  = ev1_mel.evaluar_arbol(algorithm=\"kdtree\", trees=1)\n",
    "curva_kd10 = ev1_mel.evaluar_arbol(algorithm=\"kdtree\", trees=10)\n",
    "curva_kd30 = ev1_mel.evaluar_arbol(algorithm=\"kdtree\", trees=30)\n",
    "curva_km3  = ev1_mel.evaluar_arbol(algorithm=\"kmeans\", branching=3)\n",
    "curva_km30 = ev1_mel.evaluar_arbol(algorithm=\"kmeans\", branching=30)\n",
    "curva_km90 = ev1_mel.evaluar_arbol(algorithm=\"kmeans\", branching=90)\n",
    "ev2_mel = EvaluarPCA(dataset_MEL)\n",
    "ev2_mel.calcular_PCA()\n",
    "for dims in 2, 4, 8, 16, 24, 32, 48, 64, 80, 96, 112, 128:\n",
    "    ev2_mel.reducir_y_buscar(dims)"
   ]
  },
  {
   "source": [
    "### Evaluación del dataset VGG"
   ],
   "cell_type": "markdown",
   "metadata": {}
  },
  {
   "cell_type": "code",
   "execution_count": null,
   "metadata": {},
   "outputs": [],
   "source": [
    "ev1_vgg = EvaluarArbol(dataset_VGG)\n",
    "ev1_vgg.linear_scan()\n",
    "curva_kd1  = ev1_vgg.evaluar_arbol(algorithm=\"kdtree\", trees=1)\n",
    "curva_kd10 = ev1_vgg.evaluar_arbol(algorithm=\"kdtree\", trees=10)\n",
    "curva_kd30 = ev1_vgg.evaluar_arbol(algorithm=\"kdtree\", trees=30)\n",
    "curva_km3  = ev1_vgg.evaluar_arbol(algorithm=\"kmeans\", branching=3)\n",
    "curva_km30 = ev1_vgg.evaluar_arbol(algorithm=\"kmeans\", branching=30)\n",
    "curva_km90 = ev1_vgg.evaluar_arbol(algorithm=\"kmeans\", branching=90)\n",
    "ev2_vgg = EvaluarPCA(dataset_VGG)\n",
    "ev2_vgg.calcular_PCA()\n",
    "for dims in 2, 4, 8, 16, 24, 32, 48, 64, 80, 96, 112, 128:\n",
    "    ev2_vgg.reducir_y_buscar(dims)"
   ]
  },
  {
   "source": [
    "### Generación de las gráficas para el dataset MEL"
   ],
   "cell_type": "markdown",
   "metadata": {}
  },
  {
   "cell_type": "code",
   "execution_count": null,
   "metadata": {},
   "outputs": [],
   "source": []
  },
  {
   "source": [
    "### Generación de las gráficas para el dataset VGG"
   ],
   "cell_type": "markdown",
   "metadata": {}
  },
  {
   "cell_type": "code",
   "execution_count": null,
   "metadata": {},
   "outputs": [],
   "source": []
  },
  {
   "source": [
    "## Analisís \n",
    "\n",
    "- Caso A: El desempeño la búsqueda aproximada logra al menos un 95% de efectividad con el menor tiempo posible.\n",
    "\n",
    "- Caso B: El desempeño la búsqueda aproximada logra al menos un 50% de efectividad con el menor tiempo posible."
   ],
   "cell_type": "markdown",
   "metadata": {}
  },
  {
   "source": [
    "## Preguntas\n",
    "\n",
    "1. ¿Qué configuración de Randomized KD-Tree logra el mejor resultado para el caso A? (mencionar número de árboles y hojas visitadas) ¿y para el caso B?\n",
    "- MEL\n",
    "- VGG\n",
    "\n",
    "2. ¿Qué configuración de Hierarchical K-Means Tree logra el mejor resultado para el caso A? (mencionar branching y hojas visitadas) ¿y para el caso B?\n",
    "- MEL\n",
    "- VGG\n",
    "\n",
    "3. ¿Qué configuración de Linear Scan sobre PCA logra el mejor resultado para el caso A? (mencionar número de dimensiones y varianza retenida) ¿y para el caso B?\n",
    "- MEL\n",
    "- VGG\n",
    "\n",
    "4. En resumen, ¿qué técnica logró el mejor resultado para el caso A? ¿y para el caso B?\n",
    "- MEL\n",
    "- VGG\n",
    "\n",
    "\n",
    "\n"
   ],
   "cell_type": "markdown",
   "metadata": {}
  }
 ]
}