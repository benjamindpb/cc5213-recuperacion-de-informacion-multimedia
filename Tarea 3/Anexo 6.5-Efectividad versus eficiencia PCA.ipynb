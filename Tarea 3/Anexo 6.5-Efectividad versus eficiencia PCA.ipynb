{
 "cells": [
  {
   "cell_type": "markdown",
   "metadata": {},
   "source": [
    "CC5213 - Recuperación de Información Multimedia\n",
    "==\n",
    "Profesor: Juan Manuel Barrios  \n",
    "Fecha: 26 abril 2021"
   ]
  },
  {
   "cell_type": "markdown",
   "metadata": {},
   "source": [
    "Búsquedas aproximadas con PCA\n",
    "=="
   ]
  },
  {
   "cell_type": "markdown",
   "metadata": {},
   "source": [
    "### Leer los datos"
   ]
  },
  {
   "cell_type": "code",
   "execution_count": 3,
   "metadata": {},
   "outputs": [
    {
     "output_type": "error",
     "ename": "AssertionError",
     "evalue": "no existe archivo SIFT-Q-128_float32.bin",
     "traceback": [
      "\u001b[0;31m---------------------------------------------------------------------------\u001b[0m",
      "\u001b[0;31mAssertionError\u001b[0m                            Traceback (most recent call last)",
      "\u001b[0;32m<ipython-input-3-f90fa2279d2d>\u001b[0m in \u001b[0;36m<module>\u001b[0;34m\u001b[0m\n\u001b[1;32m     14\u001b[0m         \u001b[0mprint\u001b[0m\u001b[0;34m(\u001b[0m\u001b[0;34m\"Dataset {}: Q={} R={}\"\u001b[0m\u001b[0;34m.\u001b[0m\u001b[0mformat\u001b[0m\u001b[0;34m(\u001b[0m\u001b[0mself\u001b[0m\u001b[0;34m.\u001b[0m\u001b[0mnombre\u001b[0m\u001b[0;34m,\u001b[0m \u001b[0mself\u001b[0m\u001b[0;34m.\u001b[0m\u001b[0mq\u001b[0m\u001b[0;34m.\u001b[0m\u001b[0mshape\u001b[0m\u001b[0;34m,\u001b[0m \u001b[0mself\u001b[0m\u001b[0;34m.\u001b[0m\u001b[0mr\u001b[0m\u001b[0;34m.\u001b[0m\u001b[0mshape\u001b[0m\u001b[0;34m)\u001b[0m\u001b[0;34m)\u001b[0m\u001b[0;34m\u001b[0m\u001b[0;34m\u001b[0m\u001b[0m\n\u001b[1;32m     15\u001b[0m \u001b[0;34m\u001b[0m\u001b[0m\n\u001b[0;32m---> 16\u001b[0;31m \u001b[0mdataset1\u001b[0m \u001b[0;34m=\u001b[0m \u001b[0mDataset\u001b[0m\u001b[0;34m(\u001b[0m\u001b[0;34m\"SIFT\"\u001b[0m\u001b[0;34m,\u001b[0m \u001b[0;34m\"SIFT-Q-128_float32.bin\"\u001b[0m\u001b[0;34m,\u001b[0m \u001b[0;34m\"SIFT-R-128_float32.bin\"\u001b[0m\u001b[0;34m,\u001b[0m \u001b[0;36m128\u001b[0m\u001b[0;34m)\u001b[0m\u001b[0;34m\u001b[0m\u001b[0;34m\u001b[0m\u001b[0m\n\u001b[0m\u001b[1;32m     17\u001b[0m \u001b[0;34m\u001b[0m\u001b[0m\n\u001b[1;32m     18\u001b[0m \u001b[0mdataset2\u001b[0m \u001b[0;34m=\u001b[0m \u001b[0mDataset\u001b[0m\u001b[0;34m(\u001b[0m\u001b[0;34m\"MEL\"\u001b[0m\u001b[0;34m,\u001b[0m \u001b[0;34m\"MEL-Q-128_float32.bin\"\u001b[0m\u001b[0;34m,\u001b[0m \u001b[0;34m\"MEL-R-128_float32.bin\"\u001b[0m\u001b[0;34m,\u001b[0m \u001b[0;36m128\u001b[0m\u001b[0;34m)\u001b[0m\u001b[0;34m\u001b[0m\u001b[0;34m\u001b[0m\u001b[0m\n",
      "\u001b[0;32m<ipython-input-3-f90fa2279d2d>\u001b[0m in \u001b[0;36m__init__\u001b[0;34m(self, nombre, archivo_q, archivo_r, dimensiones)\u001b[0m\n\u001b[1;32m     10\u001b[0m     \u001b[0;32mdef\u001b[0m \u001b[0m__init__\u001b[0m\u001b[0;34m(\u001b[0m\u001b[0mself\u001b[0m\u001b[0;34m,\u001b[0m \u001b[0mnombre\u001b[0m\u001b[0;34m,\u001b[0m \u001b[0marchivo_q\u001b[0m\u001b[0;34m,\u001b[0m \u001b[0marchivo_r\u001b[0m\u001b[0;34m,\u001b[0m \u001b[0mdimensiones\u001b[0m\u001b[0;34m)\u001b[0m\u001b[0;34m:\u001b[0m\u001b[0;34m\u001b[0m\u001b[0;34m\u001b[0m\u001b[0m\n\u001b[1;32m     11\u001b[0m         \u001b[0mself\u001b[0m\u001b[0;34m.\u001b[0m\u001b[0mnombre\u001b[0m \u001b[0;34m=\u001b[0m \u001b[0mnombre\u001b[0m\u001b[0;34m\u001b[0m\u001b[0;34m\u001b[0m\u001b[0m\n\u001b[0;32m---> 12\u001b[0;31m         \u001b[0mself\u001b[0m\u001b[0;34m.\u001b[0m\u001b[0mq\u001b[0m \u001b[0;34m=\u001b[0m \u001b[0mload_file\u001b[0m\u001b[0;34m(\u001b[0m\u001b[0marchivo_q\u001b[0m\u001b[0;34m,\u001b[0m \u001b[0mdimensiones\u001b[0m\u001b[0;34m)\u001b[0m\u001b[0;34m\u001b[0m\u001b[0;34m\u001b[0m\u001b[0m\n\u001b[0m\u001b[1;32m     13\u001b[0m         \u001b[0mself\u001b[0m\u001b[0;34m.\u001b[0m\u001b[0mr\u001b[0m \u001b[0;34m=\u001b[0m \u001b[0mload_file\u001b[0m\u001b[0;34m(\u001b[0m\u001b[0marchivo_r\u001b[0m\u001b[0;34m,\u001b[0m \u001b[0mdimensiones\u001b[0m\u001b[0;34m)\u001b[0m\u001b[0;34m\u001b[0m\u001b[0;34m\u001b[0m\u001b[0m\n\u001b[1;32m     14\u001b[0m         \u001b[0mprint\u001b[0m\u001b[0;34m(\u001b[0m\u001b[0;34m\"Dataset {}: Q={} R={}\"\u001b[0m\u001b[0;34m.\u001b[0m\u001b[0mformat\u001b[0m\u001b[0;34m(\u001b[0m\u001b[0mself\u001b[0m\u001b[0;34m.\u001b[0m\u001b[0mnombre\u001b[0m\u001b[0;34m,\u001b[0m \u001b[0mself\u001b[0m\u001b[0;34m.\u001b[0m\u001b[0mq\u001b[0m\u001b[0;34m.\u001b[0m\u001b[0mshape\u001b[0m\u001b[0;34m,\u001b[0m \u001b[0mself\u001b[0m\u001b[0;34m.\u001b[0m\u001b[0mr\u001b[0m\u001b[0;34m.\u001b[0m\u001b[0mshape\u001b[0m\u001b[0;34m)\u001b[0m\u001b[0;34m)\u001b[0m\u001b[0;34m\u001b[0m\u001b[0;34m\u001b[0m\u001b[0m\n",
      "\u001b[0;32m<ipython-input-3-f90fa2279d2d>\u001b[0m in \u001b[0;36mload_file\u001b[0;34m(filename, dimensions)\u001b[0m\n\u001b[1;32m      3\u001b[0m \u001b[0;34m\u001b[0m\u001b[0m\n\u001b[1;32m      4\u001b[0m \u001b[0;32mdef\u001b[0m \u001b[0mload_file\u001b[0m\u001b[0;34m(\u001b[0m\u001b[0mfilename\u001b[0m\u001b[0;34m,\u001b[0m \u001b[0mdimensions\u001b[0m\u001b[0;34m)\u001b[0m\u001b[0;34m:\u001b[0m\u001b[0;34m\u001b[0m\u001b[0;34m\u001b[0m\u001b[0m\n\u001b[0;32m----> 5\u001b[0;31m     \u001b[0;32massert\u001b[0m \u001b[0mos\u001b[0m\u001b[0;34m.\u001b[0m\u001b[0mpath\u001b[0m\u001b[0;34m.\u001b[0m\u001b[0misfile\u001b[0m\u001b[0;34m(\u001b[0m\u001b[0mfilename\u001b[0m\u001b[0;34m)\u001b[0m\u001b[0;34m,\u001b[0m \u001b[0;34m\"no existe archivo \"\u001b[0m \u001b[0;34m+\u001b[0m \u001b[0mfilename\u001b[0m\u001b[0;34m\u001b[0m\u001b[0;34m\u001b[0m\u001b[0m\n\u001b[0m\u001b[1;32m      6\u001b[0m     \u001b[0mmat\u001b[0m \u001b[0;34m=\u001b[0m \u001b[0mnumpy\u001b[0m\u001b[0;34m.\u001b[0m\u001b[0mfromfile\u001b[0m\u001b[0;34m(\u001b[0m\u001b[0mfilename\u001b[0m\u001b[0;34m,\u001b[0m \u001b[0mdtype\u001b[0m\u001b[0;34m=\u001b[0m\u001b[0mnumpy\u001b[0m\u001b[0;34m.\u001b[0m\u001b[0mfloat32\u001b[0m\u001b[0;34m)\u001b[0m\u001b[0;34m\u001b[0m\u001b[0;34m\u001b[0m\u001b[0m\n\u001b[1;32m      7\u001b[0m     \u001b[0;32mreturn\u001b[0m \u001b[0mnumpy\u001b[0m\u001b[0;34m.\u001b[0m\u001b[0mreshape\u001b[0m\u001b[0;34m(\u001b[0m\u001b[0mmat\u001b[0m\u001b[0;34m,\u001b[0m \u001b[0;34m(\u001b[0m\u001b[0;34m-\u001b[0m\u001b[0;36m1\u001b[0m\u001b[0;34m,\u001b[0m \u001b[0mdimensions\u001b[0m\u001b[0;34m)\u001b[0m\u001b[0;34m)\u001b[0m\u001b[0;34m\u001b[0m\u001b[0;34m\u001b[0m\u001b[0m\n",
      "\u001b[0;31mAssertionError\u001b[0m: no existe archivo SIFT-Q-128_float32.bin"
     ]
    }
   ],
   "source": [
    "import os\n",
    "import numpy\n",
    "\n",
    "def load_file(filename, dimensions):\n",
    "    assert os.path.isfile(filename), \"no existe archivo \" + filename\n",
    "    mat = numpy.fromfile(filename, dtype=numpy.float32)\n",
    "    return numpy.reshape(mat, (-1, dimensions))\n",
    "\n",
    "class Dataset:   \n",
    "    def __init__(self, nombre, archivo_q, archivo_r, dimensiones):\n",
    "        self.nombre = nombre\n",
    "        self.q = load_file(archivo_q, dimensiones)\n",
    "        self.r = load_file(archivo_r, dimensiones)\n",
    "        print(\"Dataset {}: Q={} R={}\".format(self.nombre, self.q.shape, self.r.shape))\n",
    "\n",
    "dataset1 = Dataset(\"SIFT\", \"SIFT-Q-128_float32.bin\", \"SIFT-R-128_float32.bin\", 128)\n",
    "\n",
    "dataset2 = Dataset(\"MEL\", \"MEL-Q-128_float32.bin\", \"MEL-R-128_float32.bin\", 128)"
   ]
  },
  {
   "cell_type": "markdown",
   "metadata": {},
   "source": [
    "### Objeto que hace la comparación"
   ]
  },
  {
   "cell_type": "code",
   "execution_count": 1,
   "metadata": {},
   "outputs": [],
   "source": [
    "import time\n",
    "import pyflann\n",
    "\n",
    "class EvaluarPCA():   \n",
    "    def __init__(self, dataset):\n",
    "        self.dataset = dataset\n",
    "        self.flann = pyflann.FLANN()\n",
    "        self.dimensiones = []\n",
    "        self.varianzas = []\n",
    "        self.precisiones = []\n",
    "        self.eficiencias = []\n",
    "\n",
    "    def linear_scan(self):\n",
    "        print(\"{} linear scan de Q={}x R={}\".format(\n",
    "            self.dataset.nombre, self.dataset.q.shape, self.dataset.r.shape))\n",
    "        self.flann.build_index(self.dataset.r, algorithm=\"linear\")\n",
    "        t0 = time.time()\n",
    "        self.gt_nns, self.gt_dists = self.flann.nn_index(self.dataset.q, num_neighbors=1, cores=2)\n",
    "        self.gt_segundos = time.time() - t0\n",
    "        print(\"{} linear scan = {:.1f} segundos\".format(self.dataset.nombre, self.gt_segundos))\n",
    "\n",
    "    def calcular_PCA(self):\n",
    "        self.promedios = self.dataset.r.mean(axis=0)\n",
    "        datos_centrados = self.dataset.r - self.promedios\n",
    "        #matriz de covarianza\n",
    "        matriz_covarianza = numpy.cov(datos_centrados.transpose(), bias=True)\n",
    "        #valores y vectores propios de la matriz de covarianza\n",
    "        eigenvalues, eigenvectors = numpy.linalg.eig(matriz_covarianza)\n",
    "        #indices ordenados\n",
    "        indices_menor_a_mayor = eigenvalues.argsort()\n",
    "        indices_mayor_a_menor = indices_menor_a_mayor[::-1]\n",
    "        #guardar valores y vectores propios de mayor a menor\n",
    "        self.eigenvalues = eigenvalues[indices_mayor_a_menor]\n",
    "        self.eigenvectors = eigenvectors[:,indices_mayor_a_menor]\n",
    "\n",
    "    def evaluar_busqueda(self, nns, dists, tiempo):\n",
    "        correctas = 0\n",
    "        incorrectas = 0\n",
    "        for i in range(len(self.gt_nns)):\n",
    "            if nns[i] == self.gt_nns[i]: \n",
    "                correctas += 1\n",
    "            else:\n",
    "                incorrectas += 1 \n",
    "        precision = 100 * correctas / (correctas + incorrectas)\n",
    "        eficiencia = 100 * tiempo / self.gt_segundos\n",
    "        return precision, eficiencia\n",
    "\n",
    "    def reducir_y_buscar(self, new_dims):\n",
    "        varianza_retenida = numpy.sum(self.eigenvalues[:new_dims]) / numpy.sum(self.eigenvalues) * 100\n",
    "        dimension = new_dims / self.dataset.r.shape[1] * 100\n",
    "        #reducir R (offline)\n",
    "        r_centrado = self.dataset.r - self.promedios\n",
    "        transformacion = self.eigenvectors[:, :new_dims]\n",
    "        r_newdim = r_centrado.dot(transformacion)\n",
    "        #reducir Q (online)\n",
    "        q_centrado = self.dataset.q - self.promedios\n",
    "        q_newdim = q_centrado.dot(transformacion)\n",
    "        #buscar entre Q y R reducidos con linear scan\n",
    "        self.flann.build_index(r_newdim, algorithm=\"linear\")\n",
    "        t0 = time.time()\n",
    "        nns_search, dists_search = self.flann.nn_index(q_newdim, num_neighbors=1, cores=2)\n",
    "        segundos = time.time() - t0\n",
    "        #medir resultado de la busqueda\n",
    "        precision, eficiencia = self.evaluar_busqueda(nns_search, dists_search, segundos)\n",
    "        #guardar resultados\n",
    "        print(\"{} PCA-{} dim={:.1f}%\\tvar={:.1f}%\\tprecision={:.1f}%\\ttiempo={:.1f}%\\tsegundos={:.1f}\".format(self.dataset.nombre, new_dims, dimension, varianza_retenida, precision, eficiencia, segundos))\n",
    "        self.dimensiones.append(dimension)\n",
    "        self.varianzas.append(varianza_retenida)\n",
    "        self.precisiones.append(precision)\n",
    "        self.eficiencias.append(eficiencia)"
   ]
  },
  {
   "cell_type": "code",
   "execution_count": 2,
   "metadata": {},
   "outputs": [
    {
     "output_type": "error",
     "ename": "NameError",
     "evalue": "name 'dataset1' is not defined",
     "traceback": [
      "\u001b[0;31m---------------------------------------------------------------------------\u001b[0m",
      "\u001b[0;31mNameError\u001b[0m                                 Traceback (most recent call last)",
      "\u001b[0;32m<ipython-input-2-6b32aaa4099d>\u001b[0m in \u001b[0;36m<module>\u001b[0;34m\u001b[0m\n\u001b[0;32m----> 1\u001b[0;31m \u001b[0mev1\u001b[0m \u001b[0;34m=\u001b[0m \u001b[0mEvaluarPCA\u001b[0m\u001b[0;34m(\u001b[0m\u001b[0mdataset1\u001b[0m\u001b[0;34m)\u001b[0m\u001b[0;34m\u001b[0m\u001b[0;34m\u001b[0m\u001b[0m\n\u001b[0m\u001b[1;32m      2\u001b[0m \u001b[0mev1\u001b[0m\u001b[0;34m.\u001b[0m\u001b[0mlinear_scan\u001b[0m\u001b[0;34m(\u001b[0m\u001b[0;34m)\u001b[0m\u001b[0;34m\u001b[0m\u001b[0;34m\u001b[0m\u001b[0m\n\u001b[1;32m      3\u001b[0m \u001b[0mev1\u001b[0m\u001b[0;34m.\u001b[0m\u001b[0mcalcular_PCA\u001b[0m\u001b[0;34m(\u001b[0m\u001b[0;34m)\u001b[0m\u001b[0;34m\u001b[0m\u001b[0;34m\u001b[0m\u001b[0m\n\u001b[1;32m      4\u001b[0m \u001b[0;32mfor\u001b[0m \u001b[0mdims\u001b[0m \u001b[0;32min\u001b[0m \u001b[0;36m2\u001b[0m\u001b[0;34m,\u001b[0m \u001b[0;36m4\u001b[0m\u001b[0;34m,\u001b[0m \u001b[0;36m8\u001b[0m\u001b[0;34m,\u001b[0m \u001b[0;36m16\u001b[0m\u001b[0;34m,\u001b[0m \u001b[0;36m24\u001b[0m\u001b[0;34m,\u001b[0m \u001b[0;36m32\u001b[0m\u001b[0;34m,\u001b[0m \u001b[0;36m48\u001b[0m\u001b[0;34m,\u001b[0m \u001b[0;36m64\u001b[0m\u001b[0;34m,\u001b[0m \u001b[0;36m80\u001b[0m\u001b[0;34m,\u001b[0m \u001b[0;36m96\u001b[0m\u001b[0;34m,\u001b[0m \u001b[0;36m112\u001b[0m\u001b[0;34m,\u001b[0m \u001b[0;36m128\u001b[0m\u001b[0;34m:\u001b[0m\u001b[0;34m\u001b[0m\u001b[0;34m\u001b[0m\u001b[0m\n\u001b[1;32m      5\u001b[0m     \u001b[0mev1\u001b[0m\u001b[0;34m.\u001b[0m\u001b[0mreducir_y_buscar\u001b[0m\u001b[0;34m(\u001b[0m\u001b[0mdims\u001b[0m\u001b[0;34m)\u001b[0m\u001b[0;34m\u001b[0m\u001b[0;34m\u001b[0m\u001b[0m\n",
      "\u001b[0;31mNameError\u001b[0m: name 'dataset1' is not defined"
     ]
    }
   ],
   "source": [
    "ev1 = EvaluarPCA(dataset1)\n",
    "ev1.linear_scan()\n",
    "ev1.calcular_PCA()\n",
    "for dims in 2, 4, 8, 16, 24, 32, 48, 64, 80, 96, 112, 128:\n",
    "    ev1.reducir_y_buscar(dims)\n",
    "\n",
    "ev2 = EvaluarPCA(dataset2)\n",
    "ev2.linear_scan()\n",
    "ev2.calcular_PCA()\n",
    "for dims in 2, 4, 8, 16, 24, 32, 48, 64, 80, 96, 112, 128:\n",
    "    ev2.reducir_y_buscar(dims)"
   ]
  },
  {
   "cell_type": "code",
   "execution_count": null,
   "metadata": {},
   "outputs": [],
   "source": [
    "import matplotlib.pyplot as plt\n",
    "%matplotlib notebook\n",
    "%matplotlib widget\n",
    "\n",
    "plt.plot(ev1.precisiones, ev1.eficiencias, label=ev1.dataset.nombre, color='r', linestyle='--', marker='o', markerfacecolor='c', markersize=8)\n",
    "plt.plot(ev2.precisiones, ev2.eficiencias, label=ev2.dataset.nombre, color='g', linestyle='-.', marker='^', markerfacecolor='m', markersize=8)\n",
    "plt.xlabel('Precisión NN %')\n",
    "plt.ylabel('Tiempos %')\n",
    "plt.xlim(0,100)\n",
    "plt.ylim(0,100)\n",
    "plt.legend()\n",
    "plt.show()"
   ]
  },
  {
   "cell_type": "code",
   "execution_count": null,
   "metadata": {},
   "outputs": [],
   "source": []
  }
 ],
 "metadata": {
  "kernelspec": {
   "name": "python383jvsc74a57bd0251fefaa8fcbd73e3ed65bb603adf0ca733fe489ca2eb32c995b57fc79f78c59",
   "display_name": "Python 3.8.3 64-bit ('base': conda)"
  },
  "language_info": {
   "codemirror_mode": {
    "name": "ipython",
    "version": 3
   },
   "file_extension": ".py",
   "mimetype": "text/x-python",
   "name": "python",
   "nbconvert_exporter": "python",
   "pygments_lexer": "ipython3",
   "version": "3.8.3"
  },
  "metadata": {
   "interpreter": {
    "hash": "251fefaa8fcbd73e3ed65bb603adf0ca733fe489ca2eb32c995b57fc79f78c59"
   }
  }
 },
 "nbformat": 4,
 "nbformat_minor": 4
}