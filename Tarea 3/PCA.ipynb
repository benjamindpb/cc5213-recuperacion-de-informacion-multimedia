{
 "cells": [
  {
   "cell_type": "markdown",
   "metadata": {},
   "source": [
    "### Objeto que hace la comparación"
   ]
  },
  {
   "cell_type": "code",
   "execution_count": 4,
   "metadata": {},
   "outputs": [],
   "source": [
    "import time\n",
    "import pyflann\n",
    "\n",
    "class EvaluarPCA:   \n",
    "    def __init__(self, dataset):\n",
    "        self.dataset = dataset\n",
    "        self.flann = pyflann.FLANN()\n",
    "        self.dimensiones = []\n",
    "        self.varianzas = []\n",
    "        self.precisiones = []\n",
    "        self.eficiencias = []\n",
    "\n",
    "    def linear_scan(self):\n",
    "        print(\"{} linear scan de Q={}xR={}\".format(\n",
    "            self.dataset.nombre, self.dataset.q.shape, self.dataset.r.shape))\n",
    "        self.flann.build_index(self.dataset.r, algorithm=\"linear\")\n",
    "        t0 = time.time()\n",
    "        self.gt_nns, self.gt_dists = self.flann.nn_index(self.dataset.q, num_neighbors=1, cores=2)\n",
    "        self.gt_segundos = time.time() - t0\n",
    "        print(\"{} linear scan = {:.1f} segundos\".format(self.dataset.nombre, self.gt_segundos))\n",
    "\n",
    "    def calcular_PCA(self):\n",
    "        self.promedios = self.dataset.r.mean(axis=0)\n",
    "        datos_centrados = self.dataset.r - self.promedios\n",
    "        #matriz de covarianza\n",
    "        matriz_covarianza = numpy.cov(datos_centrados.transpose(), bias=True)\n",
    "        #valores y vectores propios de la matriz de covarianza\n",
    "        eigenvalues, eigenvectors = numpy.linalg.eig(matriz_covarianza)\n",
    "        #indices ordenados\n",
    "        indices_menor_a_mayor = eigenvalues.argsort()\n",
    "        indices_mayor_a_menor = indices_menor_a_mayor[::-1]\n",
    "        #guardar valores y vectores propios de mayor a menor\n",
    "        self.eigenvalues = eigenvalues[indices_mayor_a_menor]\n",
    "        self.eigenvectors = eigenvectors[:,indices_mayor_a_menor]\n",
    "\n",
    "    def evaluar_busqueda(self, nns, dists, tiempo):\n",
    "        correctas = 0\n",
    "        incorrectas = 0\n",
    "        for i in range(len(self.gt_nns)):\n",
    "            if nns[i] == self.gt_nns[i]: \n",
    "                correctas += 1\n",
    "            else:\n",
    "                incorrectas += 1 \n",
    "        precision = 100 * correctas / (correctas + incorrectas)\n",
    "        eficiencia = 100 * tiempo / self.gt_segundos\n",
    "        return precision, eficiencia\n",
    "\n",
    "    def reducir_y_buscar(self, new_dims):\n",
    "        varianza_retenida = numpy.sum(self.eigenvalues[:new_dims]) / numpy.sum(self.eigenvalues) * 100\n",
    "        dimension = new_dims / self.dataset.r.shape[1] * 100\n",
    "        #reducir R (offline)\n",
    "        r_centrado = self.dataset.r - self.promedios\n",
    "        transformacion = self.eigenvectors[:, :new_dims]\n",
    "        r_newdim = r_centrado.dot(transformacion)\n",
    "        #reducir Q (online)\n",
    "        q_centrado = self.dataset.q - self.promedios\n",
    "        q_newdim = q_centrado.dot(transformacion)\n",
    "        #buscar entre Q y R reducidos con linear scan\n",
    "        self.flann.build_index(r_newdim, algorithm=\"linear\")\n",
    "        t0 = time.time()\n",
    "        nns_search, dists_search = self.flann.nn_index(q_newdim, num_neighbors=1, cores=2)\n",
    "        segundos = time.time() - t0\n",
    "        #medir resultado de la busqueda\n",
    "        precision, eficiencia = self.evaluar_busqueda(nns_search, dists_search, segundos)\n",
    "        #guardar resultados\n",
    "        print(\"{} PCA-{} dim={:.1f}%\\tvar={:.1f}%\\tprecision={:.1f}%\\ttiempo={:.1f}%\\tsegundos={:.1f}\".format(\n",
    "            self.dataset.nombre, new_dims, dimension, varianza_retenida, precision, eficiencia, segundos))\n",
    "        self.dimensiones.append(dimension)\n",
    "        self.varianzas.append(varianza_retenida)\n",
    "        self.precisiones.append(precision)\n",
    "        self.eficiencias.append(eficiencia)"
   ]
  }
 ],
 "metadata": {
  "kernelspec": {
   "name": "python383jvsc74a57bd0251fefaa8fcbd73e3ed65bb603adf0ca733fe489ca2eb32c995b57fc79f78c59",
   "display_name": "Python 3.8.3 64-bit ('base': conda)"
  },
  "language_info": {
   "codemirror_mode": {
    "name": "ipython",
    "version": 3
   },
   "file_extension": ".py",
   "mimetype": "text/x-python",
   "name": "python",
   "nbconvert_exporter": "python",
   "pygments_lexer": "ipython3",
   "version": "3.8.3"
  },
  "metadata": {
   "interpreter": {
    "hash": "251fefaa8fcbd73e3ed65bb603adf0ca733fe489ca2eb32c995b57fc79f78c59"
   }
  }
 },
 "nbformat": 4,
 "nbformat_minor": 4
}