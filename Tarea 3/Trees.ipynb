{
 "metadata": {
  "language_info": {
   "codemirror_mode": {
    "name": "ipython",
    "version": 3
   },
   "file_extension": ".py",
   "mimetype": "text/x-python",
   "name": "python",
   "nbconvert_exporter": "python",
   "pygments_lexer": "ipython3",
   "version": "3.8.3"
  },
  "orig_nbformat": 2,
  "kernelspec": {
   "name": "python383jvsc74a57bd0251fefaa8fcbd73e3ed65bb603adf0ca733fe489ca2eb32c995b57fc79f78c59",
   "display_name": "Python 3.8.3 64-bit ('base': conda)"
  },
  "metadata": {
   "interpreter": {
    "hash": "251fefaa8fcbd73e3ed65bb603adf0ca733fe489ca2eb32c995b57fc79f78c59"
   }
  }
 },
 "nbformat": 4,
 "nbformat_minor": 2,
 "cells": [
  {
   "cell_type": "code",
   "execution_count": 4,
   "metadata": {},
   "outputs": [],
   "source": [
    "import time\n",
    "import pyflann\n",
    "\n",
    "class EvaluarArbol:   \n",
    "    def __init__(self, dataset):\n",
    "        self.dataset = dataset\n",
    "        self.flann = pyflann.FLANN()\n",
    "        \n",
    "    def linear_scan(self):\n",
    "        print(\"{} linear scan de Q={}xR={}\".format(\n",
    "            self.dataset.nombre, self.dataset.q.shape, self.dataset.r.shape))\n",
    "        self.flann.build_index(self.dataset.r, algorithm=\"linear\")\n",
    "        t0 = time.time()\n",
    "        self.gt_nns, self.gt_dists = self.flann.nn_index(self.dataset.q, num_neighbors=1, cores=2)\n",
    "        self.gt_segundos = time.time() - t0\n",
    "        print(\"{} linear scan = {:.1f} segundos\".format(\n",
    "            self.dataset.nombre, self.gt_segundos))\n",
    "    \n",
    "    def evaluar_busqueda(self, nns, dists, tiempo):\n",
    "        correctas = 0\n",
    "        incorrectas = 0\n",
    "        for i in range(len(self.gt_nns)):\n",
    "            if nns[i] == self.gt_nns[i] or dists[i] == self.gt_dists[i]: \n",
    "                correctas += 1\n",
    "            else:\n",
    "                incorrectas += 1 \n",
    "        precision = 100 * correctas / (correctas + incorrectas)\n",
    "        eficiencia = 100 * tiempo / self.gt_segundos\n",
    "        return precision, eficiencia\n",
    "\n",
    "    def evaluar_arbol(self, algorithm, trees=0, branching=0):\n",
    "        t0 = time.time()\n",
    "        self.flann.build_index(self.dataset.r, algorithm=algorithm, trees=trees, branching=branching)\n",
    "        name = \"{}-{}\".format(algorithm, max(trees, branching))\n",
    "        print(\"{} construcción {} = {:.2f} segundos\".format(\n",
    "            self.dataset.nombre, name, time.time() - t0))\n",
    "        curva = Curva()\n",
    "        for checks in (1, 10, 40, 70, 100, 200, 300, 400, 500, 600, 700, 800, 900, 1000, 5000):\n",
    "            t0 = time.time()\n",
    "            nn, dist = self.flann.nn_index(self.dataset.q, num_neighbors=1, cores=4, checks=checks)\n",
    "            precision, eficiencia = self.evaluar_busqueda(nn, dist, time.time() - t0)\n",
    "            print(\"  {}\\tprecision={:.1f}%\\ttiempo={:.1f}% checks={}\".format(\n",
    "                name, precision, eficiencia, checks))\n",
    "            curva.precisiones.append(precision)\n",
    "            curva.eficiencias.append(eficiencia)\n",
    "        return curva"
   ]
  }
 ]
}