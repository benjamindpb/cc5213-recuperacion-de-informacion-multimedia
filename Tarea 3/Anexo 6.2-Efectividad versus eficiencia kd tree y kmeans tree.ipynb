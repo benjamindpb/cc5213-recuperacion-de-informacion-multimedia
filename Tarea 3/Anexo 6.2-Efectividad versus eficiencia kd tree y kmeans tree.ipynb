{
 "cells": [
  {
   "cell_type": "markdown",
   "metadata": {},
   "source": [
    "CC5213 - Recuperación de Información Multimedia\n",
    "==\n",
    "Profesor: Juan Manuel Barrios  \n",
    "Fecha: 26 abril 2021"
   ]
  },
  {
   "cell_type": "markdown",
   "metadata": {},
   "source": [
    "Comparación búsquedas aproximadas k-d tree y k-means tree\n",
    "=="
   ]
  },
  {
   "cell_type": "markdown",
   "metadata": {},
   "source": [
    "### Leer los datos"
   ]
  },
  {
   "cell_type": "code",
   "execution_count": null,
   "metadata": {
    "scrolled": true
   },
   "outputs": [],
   "source": [
    "import os\n",
    "import numpy\n",
    "\n",
    "def load_file(filename, dimensions):\n",
    "    assert os.path.isfile(filename), \"no existe archivo \" + filename\n",
    "    mat = numpy.fromfile(filename, dtype=numpy.float32)\n",
    "    return numpy.reshape(mat, (-1, dimensions))\n",
    "\n",
    "class Dataset:   \n",
    "    def __init__(self, nombre, archivo_q, archivo_r, dimensiones):\n",
    "        self.nombre = nombre\n",
    "        self.q = load_file(archivo_q, dimensiones)\n",
    "        self.r = load_file(archivo_r, dimensiones)\n",
    "        print(\"Dataset {}: Q={} R={}\".format(self.nombre, self.q.shape, self.r.shape))\n",
    "\n",
    "dataset1 = Dataset(\"SIFT\", \"SIFT-Q-128_float32.bin\", \"SIFT-R-128_float32.bin\", 128)\n",
    "\n",
    "dataset2 = Dataset(\"MEL\", \"MEL-Q-128_float32.bin\", \"MEL-R-128_float32.bin\", 128)\n"
   ]
  },
  {
   "cell_type": "markdown",
   "metadata": {},
   "source": [
    "### Objeto que hace la comparación"
   ]
  },
  {
   "cell_type": "code",
   "execution_count": null,
   "metadata": {},
   "outputs": [],
   "source": [
    "import time\n",
    "import pyflann\n",
    "\n",
    "class Curva:   \n",
    "    def __init__(self):\n",
    "        self.precisiones = []\n",
    "        self.eficiencias = []\n",
    "\n",
    "class EvaluarArbol:   \n",
    "    def __init__(self, dataset):\n",
    "        self.dataset = dataset\n",
    "        self.flann = pyflann.FLANN()\n",
    "        \n",
    "    def linear_scan(self):\n",
    "        print(\"linear scan {} de Q={} x R={}\".format(\n",
    "            self.dataset.nombre, self.dataset.q.shape, self.dataset.r.shape))\n",
    "        self.flann.build_index(self.dataset.r, algorithm=\"linear\")\n",
    "        t0 = time.time()\n",
    "        self.gt_nns, self.gt_dists = self.flann.nn_index(self.dataset.q, num_neighbors=1, cores=4)\n",
    "        self.gt_segundos = time.time() - t0\n",
    "        print(\"linear scan = {:.1f} segundos\".format(self.gt_segundos))\n",
    "    \n",
    "    def evaluar_busqueda(self, nns, dists, tiempo):\n",
    "        correctas = 0\n",
    "        incorrectas = 0\n",
    "        for i in range(len(self.gt_nns)):\n",
    "            if nns[i] == self.gt_nns[i] or dists[i] == self.gt_dists[i]: \n",
    "                correctas += 1\n",
    "            else:\n",
    "                incorrectas += 1 \n",
    "        precision = 100 * correctas / (correctas + incorrectas)\n",
    "        eficiencia = 100 * tiempo / self.gt_segundos\n",
    "        return precision, eficiencia\n",
    "\n",
    "    def evaluar_arbol(self, algorithm, trees=0, branching=0):\n",
    "        t0 = time.time()\n",
    "        self.flann.build_index(self.dataset.r, algorithm=algorithm, trees=trees, branching=branching)\n",
    "        name = \"{}-{}\".format(algorithm, max(trees, branching))\n",
    "        print(\"{} construcción {} = {:.2f} segundos\".format(self.dataset.nombre, name, time.time() - t0))\n",
    "        curva = Curva()\n",
    "        for checks in (1, 10, 40, 70, 100, 200, 300, 400, 500, 600, 700, 800, 900, 1000, 5000):\n",
    "            t0 = time.time()\n",
    "            nn, dist = self.flann.nn_index(self.dataset.q, num_neighbors=1, cores=4, checks=checks)\n",
    "            precision, eficiencia = self.evaluar_busqueda(nn, dist, time.time() - t0)\n",
    "            print(\"  {}\\tprecision={:.1f}%\\ttiempo={:.1f}% checks={}\".format(name, precision, eficiencia, checks))\n",
    "            curva.precisiones.append(precision)\n",
    "            curva.eficiencias.append(eficiencia)\n",
    "        return curva\n"
   ]
  },
  {
   "cell_type": "code",
   "execution_count": null,
   "metadata": {
    "scrolled": true
   },
   "outputs": [],
   "source": [
    "ev = EvaluarArbol(dataset1)\n",
    "ev.linear_scan()\n",
    "curva_kd1  = ev.evaluar_arbol(algorithm=\"kdtree\", trees=1)\n",
    "curva_kd10 = ev.evaluar_arbol(algorithm=\"kdtree\", trees=10)\n",
    "curva_kd30 = ev.evaluar_arbol(algorithm=\"kdtree\", trees=30)\n",
    "curva_km3  = ev.evaluar_arbol(algorithm=\"kmeans\", branching=3)\n",
    "curva_km30 = ev.evaluar_arbol(algorithm=\"kmeans\", branching=30)\n",
    "curva_km90 = ev.evaluar_arbol(algorithm=\"kmeans\", branching=90)"
   ]
  },
  {
   "cell_type": "code",
   "execution_count": null,
   "metadata": {
    "scrolled": false
   },
   "outputs": [],
   "source": [
    "import matplotlib.pyplot as plt\n",
    "%matplotlib notebook\n",
    "%matplotlib inline\n",
    "\n",
    "plt.plot(curva_kd1.precisiones,  curva_kd1.eficiencias,  label='kdtree-1',  color='r', linestyle='--', marker='o', markerfacecolor='c', markersize=8)\n",
    "plt.plot(curva_kd10.precisiones, curva_kd10.eficiencias, label='kdtree-10', color='g', linestyle='--', marker='o', markerfacecolor='m', markersize=8)\n",
    "plt.plot(curva_kd30.precisiones, curva_kd30.eficiencias, label='kdtree-30', color='b', linestyle='--', marker='o', markerfacecolor='y', markersize=8)\n",
    "plt.plot(curva_km3.precisiones,  curva_km3.eficiencias,  label='kmeans-3',  color='c', linestyle='-.', marker='^', markerfacecolor='r', markersize=8)\n",
    "plt.plot(curva_km30.precisiones, curva_km30.eficiencias, label='kmeans-30', color='m', linestyle='-.', marker='^', markerfacecolor='g', markersize=8)\n",
    "plt.plot(curva_km90.precisiones, curva_km90.eficiencias, label='kmeans-90', color='y', linestyle='-.', marker='^', markerfacecolor='b', markersize=8)\n",
    "plt.title(ev.dataset.nombre)\n",
    "plt.xlabel('Precisión NN')\n",
    "plt.ylabel('Tiempos')\n",
    "plt.xlim(0,100)\n",
    "plt.ylim(0,100)\n",
    "plt.legend()\n",
    "plt.show()\n"
   ]
  },
  {
   "cell_type": "code",
   "execution_count": null,
   "metadata": {
    "scrolled": false
   },
   "outputs": [],
   "source": [
    "ev2 = EvaluarArbol(dataset2)\n",
    "ev2.linear_scan()\n",
    "curva2_kd1  = ev2.evaluar_arbol(algorithm=\"kdtree\", trees=1)\n",
    "curva2_kd10 = ev2.evaluar_arbol(algorithm=\"kdtree\", trees=10)\n",
    "curva2_kd30 = ev2.evaluar_arbol(algorithm=\"kdtree\", trees=30)\n",
    "curva2_km3  = ev2.evaluar_arbol(algorithm=\"kmeans\", branching=3)\n",
    "curva2_km30 = ev2.evaluar_arbol(algorithm=\"kmeans\", branching=30)\n",
    "curva2_km90 = ev2.evaluar_arbol(algorithm=\"kmeans\", branching=90)\n"
   ]
  },
  {
   "cell_type": "code",
   "execution_count": null,
   "metadata": {
    "scrolled": false
   },
   "outputs": [],
   "source": [
    "plt.plot(curva2_kd1.precisiones,  curva2_kd1.eficiencias,  label='kdtree-1',  color='r', linestyle='--', marker='o', markerfacecolor='c', markersize=8)\n",
    "plt.plot(curva2_kd10.precisiones, curva2_kd10.eficiencias, label='kdtree-10', color='g', linestyle='--', marker='o', markerfacecolor='m', markersize=8)\n",
    "plt.plot(curva2_kd30.precisiones, curva2_kd30.eficiencias, label='kdtree-30', color='b', linestyle='--', marker='o', markerfacecolor='y', markersize=8)\n",
    "plt.plot(curva2_km3.precisiones,  curva2_km3.eficiencias,  label='kmeans-3',  color='c', linestyle='-.', marker='^', markerfacecolor='r', markersize=8)\n",
    "plt.plot(curva2_km30.precisiones, curva2_km30.eficiencias, label='kmeans-30', color='m', linestyle='-.', marker='^', markerfacecolor='g', markersize=8)\n",
    "plt.plot(curva2_km90.precisiones, curva2_km90.eficiencias, label='kmeans-90', color='y', linestyle='-.', marker='^', markerfacecolor='b', markersize=8)\n",
    "plt.title(ev2.dataset.nombre)\n",
    "plt.xlabel('Precisión NN')\n",
    "plt.ylabel('Tiempos')\n",
    "plt.xlim(0,100)\n",
    "plt.ylim(0,100)\n",
    "plt.legend()\n",
    "plt.show()"
   ]
  }
 ],
 "metadata": {
  "kernelspec": {
   "display_name": "Python 3.8.3 64-bit ('base': conda)",
   "language": "python",
   "name": "python383jvsc74a57bd0251fefaa8fcbd73e3ed65bb603adf0ca733fe489ca2eb32c995b57fc79f78c59"
  },
  "language_info": {
   "codemirror_mode": {
    "name": "ipython",
    "version": 3
   },
   "file_extension": ".py",
   "mimetype": "text/x-python",
   "name": "python",
   "nbconvert_exporter": "python",
   "pygments_lexer": "ipython3",
   "version": "3.8.3"
  },
  "metadata": {
   "interpreter": {
    "hash": "251fefaa8fcbd73e3ed65bb603adf0ca733fe489ca2eb32c995b57fc79f78c59"
   }
  }
 },
 "nbformat": 4,
 "nbformat_minor": 4
}